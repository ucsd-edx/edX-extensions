{
 "cells": [
  {
   "cell_type": "markdown",
   "metadata": {
    "deletable": true,
    "editable": true,
    "heading_collapsed": true,
    "run_control": {
     "frozen": false,
     "read_only": false
    }
   },
   "source": [
    "# Translator Class"
   ]
  },
  {
   "cell_type": "markdown",
   "metadata": {
    "deletable": true,
    "editable": true,
    "hidden": true,
    "run_control": {
     "frozen": false,
     "read_only": false
    }
   },
   "source": [
    "<strong style=\"font-size: 16pt\">Intro: </strong >\n",
    "\n",
    "<strong> This file contains all of the code for the translator class. </strong>\n",
    "\n",
    "Putting the code for this class in an .ipynb makes it so that we can work on this class together in real time. There could possibly be some overwrite issues if we are both working on the file at the same time. But an easy fix to that problem is to simply make a copy of this file and then to work on the copy. We should also notify each other when we are changing the main .ipynb file. Once finished, the copy can be pasted back into the main Translator Class file.\n",
    "\n",
    "Once we have finished the translator class we can copy and paste all this stuff into a .py file for implementation.\n",
    " \n",
    "\n",
    "<strong style=\"color:#FF5733;font-size: 16pt\">Idea: </strong >\n",
    "<div>We could have the class be something that people just import into a jupyter notebook. The nice thing about this is that if they create the markdown in a jupyter notebook and write their python code in a jupyter notebook. We could just make it so that they give the path an output file and then hte xml is produced their. Then they can do all their work in a single notebook. The user wont have to copy all their code into a seperate imd file and they wont have to worry about the JSON file. This would also be simpler to code.</div> "
   ]
  },
  {
   "cell_type": "markdown",
   "metadata": {
    "deletable": true,
    "editable": true,
    "heading_collapsed": true,
    "run_control": {
     "frozen": false,
     "read_only": false
    }
   },
   "source": [
    "# <strong style=\"color:fuchsia\">Class</strong>  Translater <span style=\"color:gray\">(empty)</span>"
   ]
  },
  {
   "cell_type": "markdown",
   "metadata": {
    "deletable": true,
    "editable": true,
    "hidden": true,
    "run_control": {
     "frozen": false,
     "read_only": false
    }
   },
   "source": [
    "import required packages"
   ]
  },
  {
   "cell_type": "code",
   "execution_count": null,
   "metadata": {
    "collapsed": true,
    "deletable": true,
    "editable": true,
    "hidden": true,
    "run_control": {
     "frozen": false,
     "read_only": false
    }
   },
   "outputs": [],
   "source": [
    "import markdown\n",
    "import json\n",
    "import sys\n",
    "import argparse"
   ]
  },
  {
   "cell_type": "markdown",
   "metadata": {
    "deletable": true,
    "editable": true,
    "hidden": true,
    "run_control": {
     "frozen": false,
     "read_only": false
    }
   },
   "source": [
    "The translator <font style=\"color:fuchsia\">Class</font> translates IMD files, into other formats. The code below just proved some very basic helper functions and the the initialization function. The other functions are added in the <font style=\"color:blue\">Function</font> sections.\n",
    "\n",
    "Translator is initialized with the specific problem you would like to translate. The initialization variables are: \n",
    "* JSON_filename: this provides a mapping from assignment/problem to the imd file. See JSON file for an example.\n",
    "* assign_id: The assignment number that you would like to translate.\n",
    "* prob_id: The problem number you would like to translate."
   ]
  },
  {
   "cell_type": "code",
   "execution_count": null,
   "metadata": {
    "collapsed": false,
    "deletable": true,
    "editable": true,
    "hidden": true,
    "run_control": {
     "frozen": false,
     "read_only": false
    }
   },
   "outputs": [],
   "source": [
    "\n",
    "class Translator:\n",
    "    \n",
    "    # Variable List:\n",
    "    input_file   =None\n",
    "    output_file  =None\n",
    "    \n",
    "    imd          =None\n",
    "    py_code      =None\n",
    "    md_code      =None\n",
    "    test_code    =None\n",
    "    html_code    =None\n",
    "    xml_code     =None\n",
    "    \n",
    "    \"\"\"\n",
    "    Helper Functions\n",
    "    \"\"\"\n",
    "    def read_imd(self):\n",
    "        f = open(self.input_file, \"r\")\n",
    "        contents = f.readlines()\n",
    "        f.close()\n",
    "        return contents\n",
    "\n",
    "    def write_xml(self):\n",
    "        f = open(self.output_file, \"w\")\n",
    "        f.write(self.xml_code)\n",
    "        f.close()\n",
    "           \n",
    "    def toHtml(self):\n",
    "        return markdown.markdown(\"\".join(self.md_code),extensions=['markdown.extensions.tables'],output_format=\"HTML\")\n",
    "\n",
    "    \n",
    "    \n",
    "    \n",
    "    \"\"\"\n",
    "    The translator class translates IMD files, into other formats.     \n",
    "    \"\"\"\n",
    "    \n",
    "    def __init__(self, assign_num, prob_num, JSON_filename=\"problems_mapping.json\",\n",
    "                input_dir=\"input_imd\", output_dir=\"output_xml\"):\n",
    "        \n",
    "        \"\"\"\n",
    "        On initializtion we select the problem to translate from the JSON mapping file.\n",
    "        We use this mapping file to designate the input_file and the output_file.\n",
    "\n",
    "        Here is an example of what the JSON file look like:\n",
    "        {\n",
    "            \"Assignment1_Problem1\": \"imd_examples/basic_example.imd\",\n",
    "            \"Assignment1_Problem2\": \"imd_examples/variables_example.imd\",\n",
    "            \"Assignment1_Problem3\": \"imd_examples/checkbox_example.imd\",\n",
    "            \"Assignment1_Problem4\": \"imd_examples/dropdown_example.imd\"\n",
    "        }\n",
    "\n",
    "        \"\"\"\n",
    "        mapping = json.load(open(JSON_filename,\"r\"))\n",
    "        mapping_key = \"Assignment{0}_Problem{1}\".format( str(assign_num), str(prob_num) )\n",
    "        file_name = mapping[mapping_key]\n",
    "        \n",
    "        self.input_file  = input_dir+\"/{0}\".format(file_name)\n",
    "        self.imd         = self.read_imd( ) \n",
    "        self.output_file = output_dir+\"/{0}.xml\".format(mapping_key) "
   ]
  },
  {
   "cell_type": "markdown",
   "metadata": {
    "deletable": true,
    "editable": true,
    "heading_collapsed": true,
    "run_control": {
     "frozen": false,
     "read_only": false
    }
   },
   "source": [
    "# <span style=\"color:blue\">Function: </span> XML Wrappers"
   ]
  },
  {
   "cell_type": "markdown",
   "metadata": {
    "deletable": true,
    "editable": true,
    "hidden": true,
    "run_control": {
     "frozen": false,
     "read_only": false
    }
   },
   "source": [
    "The following functions are all helper functions for the Translator class. They are used when code is being converted into the XML format. Basically, what these functions do is provide the correct xml format when converting specifics parts of the `.imd` into `.xml`"
   ]
  },
  {
   "cell_type": "code",
   "execution_count": null,
   "metadata": {
    "collapsed": true,
    "deletable": true,
    "editable": true,
    "hidden": true,
    "run_control": {
     "frozen": false,
     "read_only": false
    }
   },
   "outputs": [],
   "source": [
    "def XML_wrapper(self, content):\n",
    "    return '<problem>\\n  <text>\\n{0}\\n  </text>\\n</problem>\\n'.format(content)\n",
    "\n",
    "Translator.XML_wrapper = XML_wrapper"
   ]
  },
  {
   "cell_type": "code",
   "execution_count": null,
   "metadata": {
    "collapsed": true,
    "deletable": true,
    "editable": true,
    "hidden": true,
    "run_control": {
     "frozen": false,
     "read_only": false
    }
   },
   "outputs": [],
   "source": [
    "def py_wrapper(self, code):\n",
    "    #XML_PY_EVAL = XML_PY_START + 'from hint import evaluate\\ndef check(expect, ans):\\n  return evaluate.evaluate(expect, ans)\\n' + XML_PY_END\n",
    "    return '    <script type=\"loncapa/python\">\\n{0}\\n    </script>\\n\\n\\n'.format(code)\n",
    "\n",
    "Translator.py_wrapper = py_wrapper"
   ]
  },
  {
   "cell_type": "code",
   "execution_count": null,
   "metadata": {
    "collapsed": true,
    "deletable": true,
    "editable": true,
    "hidden": true,
    "run_control": {
     "frozen": false,
     "read_only": false
    }
   },
   "outputs": [],
   "source": [
    "def math_wrapper(self, sol):\n",
    "    return '    <customresponse cfn=\"check\" expect=\"\\[${0}\\]\">\\n      <textline/>\\n    </customresponse>\\n\\n'.format(sol)\n",
    "\n",
    "Translator.math_wrapper = math_wrapper"
   ]
  },
  {
   "cell_type": "code",
   "execution_count": null,
   "metadata": {
    "collapsed": true,
    "deletable": true,
    "editable": true,
    "hidden": true,
    "run_control": {
     "frozen": false,
     "read_only": false
    }
   },
   "outputs": [],
   "source": [
    "def option_wrapper(self, opt, sol):\n",
    "    opt_string = '      <optioninput options=\"${0}\" correct=\"${1}\"/>'.format(opt, sol)\n",
    "    return '    <optionresponse>\\n'+opt_string+'\\n    </optionresponse>\\n\\n'\n",
    "\n",
    "Translator.option_wrapper = option_wrapper"
   ]
  },
  {
   "cell_type": "code",
   "execution_count": null,
   "metadata": {
    "collapsed": true,
    "deletable": true,
    "editable": true,
    "hidden": true,
    "run_control": {
     "frozen": false,
     "read_only": false
    }
   },
   "outputs": [],
   "source": [
    "def multi_choice_wrapper(self, choices):\n",
    "    head = '    <choiceresponse>\\n      <checkboxgroup>\\n'\n",
    "    end = '      </checkboxgroup>\\n    </choiceresponse>\\n\\n'\n",
    "    return head+choices+end\n",
    "\n",
    "Translator.multi_choice_wrapper = multi_choice_wrapper"
   ]
  },
  {
   "cell_type": "code",
   "execution_count": null,
   "metadata": {
    "collapsed": true,
    "deletable": true,
    "editable": true,
    "hidden": true,
    "run_control": {
     "frozen": false,
     "read_only": false
    }
   },
   "outputs": [],
   "source": [
    "def correct_choice_wrapper(self, choice):\n",
    "    return '<choice correct=\"true\">{0}</choice>\\n'.format(choice)\n",
    "\n",
    "Translator.correct_choice_wrapper = correct_choice_wrapper"
   ]
  },
  {
   "cell_type": "code",
   "execution_count": null,
   "metadata": {
    "collapsed": true,
    "deletable": true,
    "editable": true,
    "hidden": true,
    "run_control": {
     "frozen": false,
     "read_only": false
    }
   },
   "outputs": [],
   "source": [
    "def wrong_choice_wrapper(self, choice):\n",
    "    return '<choice correct=\"false\">{0}</choice>\\n'.format(choice)\n",
    "\n",
    "Translator.wrong_choice_wrapper = wrong_choice_wrapper"
   ]
  },
  {
   "cell_type": "markdown",
   "metadata": {
    "deletable": true,
    "editable": true,
    "heading_collapsed": true,
    "run_control": {
     "frozen": false,
     "read_only": false
    }
   },
   "source": [
    "# <span style=\"color:blue\">Function: </span> Load Imd\n"
   ]
  },
  {
   "cell_type": "markdown",
   "metadata": {
    "deletable": true,
    "editable": true,
    "hidden": true,
    "run_control": {
     "frozen": false,
     "read_only": false
    }
   },
   "source": [
    "This function loads the imd code from the input file. It then splits the imd code into the  python portion, the test portion, and the true imd portion."
   ]
  },
  {
   "cell_type": "code",
   "execution_count": null,
   "metadata": {
    "collapsed": false,
    "deletable": true,
    "editable": true,
    "hidden": true,
    "run_control": {
     "frozen": false,
     "read_only": false
    }
   },
   "outputs": [],
   "source": [
    "def loadImd(self):\n",
    "    '''\n",
    "    Given imd file content, split python code, markdown code, and test code.\n",
    "    input:\n",
    "        contents: imd file content\n",
    "    output:\n",
    "        python_code: python code\n",
    "        md_code: markdown code\n",
    "        test_code: test code\n",
    "    '''\n",
    "\n",
    "    contents = self.imd\n",
    "    \n",
    "    # Read python code\n",
    "    if \"```python\\n\" in contents:\n",
    "        start_index = contents.index(\"```python\\n\")\n",
    "        end_index = contents.index(\"```\\n\")\n",
    "        python_code = contents[start_index+1:end_index]\n",
    "        python_code = \"\".join(python_code)\n",
    "        contents = contents[:start_index] + contents[end_index+1:]\n",
    "    else:\n",
    "        python_code = \"\"\n",
    "\n",
    "    # Read test code\n",
    "    if \"```test\\n\" in contents:\n",
    "        start_index = contents.index(\"```test\\n\")\n",
    "        if \"```\\n\" in contents:\n",
    "            end_index = contents.index(\"```\\n\")\n",
    "        elif \"```\" in contents:\n",
    "            end_index = contents.index(\"```\")\n",
    "        else:\n",
    "            print \"didn't close test section\"\n",
    "        test_code = contents[start_index+1:end_index]\n",
    "        test_code = \"\".join(test_code)\n",
    "        contents = contents[:start_index] + contents[end_index+1:]\n",
    "    else:\n",
    "        test_code = \"\"\n",
    "\n",
    "    md_code = contents[:]\n",
    "\n",
    "    inline = 0  # open or closed parantheses\n",
    "    double = 0  # open or closed brackets\n",
    "    inlineSub = ['\\\\\\\\\\\\(', '\\\\\\\\\\\\)']\n",
    "    doubleSub = ['\\\\\\\\\\\\[', '\\\\\\\\\\\\]']\n",
    "\n",
    "    # Read markdown line by line\n",
    "    for j in xrange(len(md_code)):\n",
    "        line = md_code[j]\n",
    "\n",
    "        # trim the empty space at the front\n",
    "        while line[0] == \" \":\n",
    "            line = line[1:]\n",
    "\n",
    "        # trim the empty space at the end, but preserve the newline\n",
    "        while len(line) > 3 and line[-2] == \" \":\n",
    "            line = line[:-2] + line[-1]\n",
    "\n",
    "        # record dollar sign in $var by a safe substitute\n",
    "        line = line.replace('\\\\$','\\001')\n",
    "\n",
    "        # substitute inline and newline math expression wrapper\n",
    "        i=0\n",
    "        while i < len(line):\n",
    "            if line[i:i+2] == '$$':\n",
    "                line = line[:i]+doubleSub[double]+line[i+2:]\n",
    "                double = 1 - double\n",
    "                i += 4\n",
    "            elif line[i] == '$':\n",
    "                line = line[:i]+inlineSub[inline]+line[i+1:]\n",
    "                inline = 1-inline\n",
    "                i += 4\n",
    "            else:\n",
    "                i += 1\n",
    "\n",
    "        # mark variables with $ sign\n",
    "        line = line.replace('\\001','$')\n",
    "        md_code[j] = line\n",
    "        \n",
    "    self.py_code = python_code\n",
    "    self.md_code = md_code\n",
    "    self.test_code = test_code\n",
    "    self.html_code = self.toHtml()\n",
    "\n",
    "Translator.loadImd = loadImd"
   ]
  },
  {
   "cell_type": "markdown",
   "metadata": {
    "deletable": true,
    "editable": true,
    "heading_collapsed": true,
    "run_control": {
     "frozen": false,
     "read_only": false
    }
   },
   "source": [
    "# <span style=\"color:blue\">Function: </span> Make XML"
   ]
  },
  {
   "cell_type": "code",
   "execution_count": null,
   "metadata": {
    "collapsed": false,
    "deletable": true,
    "editable": true,
    "hidden": true,
    "run_control": {
     "frozen": false,
     "read_only": false
    }
   },
   "outputs": [],
   "source": [
    "def toXml(self):\n",
    "    \"\"\"\n",
    "    returns the XML code that is to be pasted into EDX studio\n",
    "    \"\"\"\n",
    "    html_code = self.html_code.splitlines()\n",
    "    py_code_lines = self.py_code.splitlines()\n",
    "\n",
    "    choice_list = \"\"\n",
    "    updated_html_code = []\n",
    "    part_id = 1\n",
    "    for line in html_code:\n",
    "        if '<p>[_choice]</p>' == line:\n",
    "            updated_html_code += ['\\n', '\\n']\n",
    "            for s in py_code_lines:\n",
    "                if '=' not in s:\n",
    "                    continue\n",
    "                strip_start_index = s.index('=')\n",
    "                strip_s = s[:strip_start_index+1].replace(\" \", \"\") + s[strip_start_index+1:]\n",
    "                sol_str = 'solution'+str(part_id)+\"=\"\n",
    "                opt_str = 'option'+str(part_id)+\"=\"\n",
    "                if sol_str in strip_s:\n",
    "                    sol_index = strip_s.index(sol_str)\n",
    "                    sol = strip_s[sol_index+len(sol_str):]\n",
    "                    while sol[0] == ' ':\n",
    "                        sol = sol[1:]\n",
    "                    sol = sol.replace('\\n','')\n",
    "                    sol = sol.replace('\"','')\n",
    "                    sol = sol.replace(\"'\", \"\")\n",
    "                elif opt_str in strip_s:\n",
    "                    opt_index = strip_s.index(opt_str)\n",
    "                    opt = strip_s[opt_index+len(opt_str):]\n",
    "                    while opt[0] == ' ':\n",
    "                        opt = opt[1:]\n",
    "                    opt = opt.replace(\"\\n\",\"\")\n",
    "\n",
    "            xml_code = self.option_wrapper(opt, sol)\n",
    "            updated_html_code += xml_code\n",
    "            part_id += 1\n",
    "\n",
    "        elif '<p>[_]</p>' == line:\n",
    "            xml_code = self.math_wrapper('solution'+str(part_id))\n",
    "            updated_html_code += xml_code\n",
    "            part_id += 1\n",
    "\n",
    "        elif '[ ]' in line or '[x]' in line:\n",
    "            # trim <p> and </p>\n",
    "            if '<p>' in line:\n",
    "                updated_html_code += ['\\n', '\\n']\n",
    "                choice_context = line[3:]\n",
    "            if '</p>' in line:\n",
    "                end_index = line.index(\"</p>\")\n",
    "                choice_context = line[:end_index]\n",
    "\n",
    "            while choice_context[0] == ' ':\n",
    "                choice_context = choice_context[1:]\n",
    "            while choice_context[-1] == ' ':\n",
    "                choice_context = choice_context[:-1]\n",
    "\n",
    "            if '[ ]' in line:\n",
    "                choice_insert = self.wrong_choice_wrapper(choice_context[3:])\n",
    "            elif '[x]' in line:\n",
    "                choice_insert = self.correct_choice_wrapper(choice_context[3:])\n",
    "\n",
    "            choice_list += choice_insert\n",
    "\n",
    "            if '</p>' in line:\n",
    "                updated_html_code += self.multi_choice_wrapper(choice_list)\n",
    "                part_id += 1\n",
    "                choice_list = \"\"\n",
    "\n",
    "        else:\n",
    "            updated_html_code.append(line)\n",
    "            updated_html_code.append(\"\\n\")\n",
    "\n",
    "    updated_html_code = \"\".join(updated_html_code)\n",
    "    \n",
    "    \"\"\"   ERROR ERROR ERROR\"\"\"\n",
    "    xml_code = self.XML_wrapper( self.py_wrapper(self.py_code) + updated_html_code)\n",
    "    self.xml_code = \"\".join(xml_code)\n",
    "\n",
    "\n",
    "Translator.toXml = toXml"
   ]
  },
  {
   "cell_type": "markdown",
   "metadata": {
    "deletable": true,
    "editable": true,
    "heading_collapsed": true,
    "run_control": {
     "frozen": false,
     "read_only": false
    }
   },
   "source": [
    "# <span style=\"color:blue\">Function: </span> Translate: imd --> xml"
   ]
  },
  {
   "cell_type": "markdown",
   "metadata": {
    "deletable": true,
    "editable": true,
    "hidden": true,
    "run_control": {
     "frozen": false,
     "read_only": false
    }
   },
   "source": [
    "This is one big function that does all of the steps of the functions of loading, converting, and saving the imd2xml code."
   ]
  },
  {
   "cell_type": "code",
   "execution_count": null,
   "metadata": {
    "collapsed": true,
    "deletable": true,
    "editable": true,
    "hidden": true,
    "run_control": {
     "frozen": false,
     "read_only": false
    }
   },
   "outputs": [],
   "source": [
    "def translate(self):  \n",
    "    self.loadImd()\n",
    "    self.toXml()\n",
    "    self.write_xml()\n",
    "\n",
    "Translator.translate = translate"
   ]
  },
  {
   "cell_type": "markdown",
   "metadata": {
    "collapsed": true,
    "deletable": true,
    "editable": true,
    "heading_collapsed": true,
    "run_control": {
     "frozen": false,
     "read_only": false
    }
   },
   "source": [
    "# <font style=\"color:red\">~Unfinished~</font> <span style=\"color:blue\">Function: </span> Test Problem "
   ]
  },
  {
   "cell_type": "code",
   "execution_count": null,
   "metadata": {
    "collapsed": false,
    "deletable": true,
    "editable": true,
    "hidden": true,
    "run_control": {
     "frozen": false,
     "read_only": false
    }
   },
   "outputs": [],
   "source": [
    "def test(self):\n",
    "    \"\"\"\n",
    "    Tests the IMD code, the code will be in 3 parts. \n",
    "        1: python code\n",
    "        2: tests\n",
    "        3: the markdown\n",
    "\n",
    "    2: Tests\n",
    "        A test consists of:\n",
    "            set variables\n",
    "            computed answers\n",
    "            correct and incorrect answers\n",
    "\n",
    "    Tests returns\n",
    "        a boolean variable of correctness\n",
    "        a string describing the error if it was incorrect\n",
    "\n",
    "    \"\"\"\n",
    "    print(self.x)\n",
    "\n",
    "    \n",
    "Translator.test = test"
   ]
  },
  {
   "cell_type": "code",
   "execution_count": null,
   "metadata": {
    "collapsed": true,
    "deletable": true,
    "editable": true,
    "hidden": true,
    "run_control": {
     "frozen": false,
     "read_only": false
    }
   },
   "outputs": [],
   "source": []
  },
  {
   "cell_type": "markdown",
   "metadata": {
    "deletable": true,
    "editable": true,
    "run_control": {
     "frozen": false,
     "read_only": false
    }
   },
   "source": [
    "# <span style=\"color:lime\">Main Code</span> "
   ]
  },
  {
   "cell_type": "code",
   "execution_count": null,
   "metadata": {
    "collapsed": false,
    "deletable": true,
    "editable": true,
    "run_control": {
     "frozen": false,
     "read_only": false
    },
    "scrolled": true
   },
   "outputs": [],
   "source": [
    "if __name__ == \"__main__\":\n",
    "    \n",
    "    # Setup arguments to be parsed\n",
    "    ap = argparse.ArgumentParser()\n",
    "    ap.add_argument('-assignment', type=int)\n",
    "    ap.add_argument('-problem', type=int)\n",
    "    ap.add_argument('-JSON_filename')\n",
    "    ap.add_argument('-input_dir')\n",
    "    ap.add_argument('-output_dir')\n",
    "    #args = ap.parse_args() #<-- For Debugging: comment out this line, and uncomment the line below\n",
    "    args = type('',(),{})();  args.assignment, args.problem, args.JSON_filename, args.input_dir, args.output_dir = 1, 1, \"problems_mapping.json\", \"input_imd\", \"output_xml\"\n",
    "    \n",
    "    # check if user supplied requried arguments\n",
    "    if args.assignment == None or args.problem==None:\n",
    "        sys.exit(\"Error: -assignment or -problem vars are missing. See 'python translate.py -h' for input requirements\")\n",
    "    \n",
    "    # If necessary, set default variables.\n",
    "    if args.JSON_filename == None: args.JSON_filename=\"problems_mapping.json\"\n",
    "    if args.input_dir     == None: args.input_dir    =\"input_imd\"\n",
    "    if args.output_dir    == None: args.output_dir   =\"output_xml\"\n",
    "        \n",
    "    print \"Translating imd into xml\"\n",
    "    translator = Translator(args.assignment, args.problem, args.JSON_filename, args.input_dir, args.output_dir)\n",
    "    translator.translate()\n",
    "    \n",
    "    print \"  Testing XML ...\"\n",
    "    # TODO HERE\n",
    "\n",
    "    print \"All tests passed. XML files saved in output_XML folder!\"\n"
   ]
  },
  {
   "cell_type": "markdown",
   "metadata": {},
   "source": [
    "**Old Code**:\n",
    "``` python  \n",
    "if sys.argv[1] == \"--help\":\n",
    "    print \"This file translates the imd file you wrote into an xml file\"\n",
    "    print \"The name of your imd file should be in the JSON mapping file\"\n",
    "    print \"You should use this file by running a command in your terminal that has the following format:\"\n",
    "    print \"python Translator2.py <assignment num> <problem num>\"\n",
    "    sys.exit()\n",
    "```"
   ]
  },
  {
   "cell_type": "markdown",
   "metadata": {
    "deletable": true,
    "editable": true,
    "run_control": {
     "frozen": false,
     "read_only": false
    }
   },
   "source": [
    "# <hr>"
   ]
  },
  {
   "cell_type": "code",
   "execution_count": null,
   "metadata": {
    "collapsed": true,
    "deletable": true,
    "editable": true,
    "run_control": {
     "frozen": false,
     "read_only": false
    }
   },
   "outputs": [],
   "source": [
    "\n",
    "\n",
    "\n",
    "\n",
    "\n",
    "\n",
    "\n",
    "\n",
    "\n",
    "\n",
    "\n",
    "\n",
    "\n"
   ]
  }
 ],
 "metadata": {
  "kernelspec": {
   "display_name": "Python 2",
   "language": "python",
   "name": "python2"
  },
  "language_info": {
   "codemirror_mode": {
    "name": "ipython",
    "version": 2
   },
   "file_extension": ".py",
   "mimetype": "text/x-python",
   "name": "python",
   "nbconvert_exporter": "python",
   "pygments_lexer": "ipython2",
   "version": "2.7.6"
  },
  "toc": {
   "colors": {
    "hover_highlight": "#DAA520",
    "running_highlight": "#FF0000",
    "selected_highlight": "#FFD700"
   },
   "moveMenuLeft": true,
   "nav_menu": {
    "height": "211px",
    "width": "252px"
   },
   "navigate_menu": true,
   "number_sections": true,
   "sideBar": true,
   "threshold": 4,
   "toc_cell": false,
   "toc_section_display": "block",
   "toc_window_display": true,
   "widenNotebook": false
  }
 },
 "nbformat": 4,
 "nbformat_minor": 2
}
