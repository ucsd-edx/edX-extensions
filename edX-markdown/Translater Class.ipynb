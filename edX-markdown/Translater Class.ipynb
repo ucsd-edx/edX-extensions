{
 "cells": [
  {
   "cell_type": "markdown",
   "metadata": {
    "deletable": true,
    "editable": true,
    "run_control": {
     "frozen": false,
     "read_only": false
    }
   },
   "source": [
    "# Translator Class"
   ]
  },
  {
   "cell_type": "markdown",
   "metadata": {
    "deletable": true,
    "editable": true,
    "run_control": {
     "frozen": false,
     "read_only": false
    }
   },
   "source": [
    "<strong> This file contains all of the code for the translator class. </strong>\n",
    "\n",
    "Putting the code for this class in an .ipynb makes it so that we can work on this class together in real time. There could possibly be some overwrite issues if we are both working on the file at the same time. But an easy fix to that problem is to simply make a copy of this file and then to work on the copy. We should also notify each other when we are changing the main .ipynb file. Once finished, the copy can be pasted back into the main Translator Class file.\n",
    "\n",
    "Once we have finished the translator class we can copy and paste all this stuff into a .py file for implementation."
   ]
  },
  {
   "cell_type": "markdown",
   "metadata": {
    "deletable": true,
    "editable": true,
    "heading_collapsed": true,
    "run_control": {
     "frozen": false,
     "read_only": false
    }
   },
   "source": [
    "# Setup Notebook"
   ]
  },
  {
   "cell_type": "markdown",
   "metadata": {
    "deletable": true,
    "editable": true,
    "hidden": true,
    "run_control": {
     "frozen": false,
     "read_only": false
    }
   },
   "source": [
    "#### import stuff"
   ]
  },
  {
   "cell_type": "code",
   "execution_count": 5,
   "metadata": {
    "collapsed": true,
    "deletable": true,
    "editable": true,
    "hidden": true,
    "run_control": {
     "frozen": false,
     "read_only": false
    }
   },
   "outputs": [],
   "source": [
    "import markdown\n",
    "import json\n",
    "import sys"
   ]
  },
  {
   "cell_type": "markdown",
   "metadata": {
    "deletable": true,
    "editable": true,
    "hidden": true,
    "run_control": {
     "frozen": false,
     "read_only": false
    }
   },
   "source": [
    "#### Global Variables"
   ]
  },
  {
   "cell_type": "code",
   "execution_count": 6,
   "metadata": {
    "collapsed": true,
    "deletable": true,
    "editable": true,
    "hidden": true,
    "run_control": {
     "frozen": false,
     "read_only": false
    }
   },
   "outputs": [],
   "source": [
    "XML_HEAD = '<problem>\\n  <text>\\n'\n",
    "XML_END = '  </text>\\n</problem>\\n'\n",
    "\n",
    "XML_PY_START = '    <script type=\"loncapa/python\">\\n'\n",
    "XML_PY_END = '    </script>\\n\\n\\n'\n",
    "XML_PY_EVAL = XML_PY_START + 'from hint import evaluate\\ndef check(expect, ans):\\n  return evaluate.evaluate(expect, ans)\\n' + XML_PY_END"
   ]
  },
  {
   "cell_type": "markdown",
   "metadata": {
    "deletable": true,
    "editable": true,
    "hidden": true,
    "run_control": {
     "frozen": false,
     "read_only": false
    }
   },
   "source": [
    "#### Wrappers"
   ]
  },
  {
   "cell_type": "code",
   "execution_count": null,
   "metadata": {
    "collapsed": true,
    "deletable": true,
    "editable": true,
    "hidden": true,
    "run_control": {
     "frozen": false,
     "read_only": false
    }
   },
   "outputs": [],
   "source": [
    "def XML_wrapper(content):\n",
    "    return '<problem>\\n  <text>\\n{0}\\n  </text>\\n</problem>\\n'.format(content)"
   ]
  },
  {
   "cell_type": "code",
   "execution_count": null,
   "metadata": {
    "collapsed": true,
    "deletable": true,
    "editable": true,
    "hidden": true,
    "run_control": {
     "frozen": false,
     "read_only": false
    }
   },
   "outputs": [],
   "source": [
    "def py_wrapper(code):\n",
    "    #XML_PY_EVAL = XML_PY_START + 'from hint import evaluate\\ndef check(expect, ans):\\n  return evaluate.evaluate(expect, ans)\\n' + XML_PY_END\n",
    "    return '    <script type=\"loncapa/python\">\\n{0}\\n    </script>\\n\\n\\n'.format(code)\n"
   ]
  },
  {
   "cell_type": "code",
   "execution_count": 7,
   "metadata": {
    "collapsed": true,
    "deletable": true,
    "editable": true,
    "hidden": true,
    "run_control": {
     "frozen": false,
     "read_only": false
    }
   },
   "outputs": [],
   "source": [
    "def math_wrapper(sol):\n",
    "    return '    <customresponse cfn=\"check\" expect=\"\\[${0}\\]\">\\n      <textline/>\\n    </customresponse>\\n\\n'.format(sol)"
   ]
  },
  {
   "cell_type": "code",
   "execution_count": 8,
   "metadata": {
    "collapsed": true,
    "deletable": true,
    "editable": true,
    "hidden": true,
    "run_control": {
     "frozen": false,
     "read_only": false
    }
   },
   "outputs": [],
   "source": [
    "def option_wrapper(opt, sol):\n",
    "    opt_string = '      <optioninput options=\"${0}\" correct=\"${1}\"/>'.format(opt, sol)\n",
    "    return '    <optionresponse>\\n'+opt_string+'\\n    </optionresponse>\\n\\n'"
   ]
  },
  {
   "cell_type": "code",
   "execution_count": 9,
   "metadata": {
    "collapsed": true,
    "deletable": true,
    "editable": true,
    "hidden": true,
    "run_control": {
     "frozen": false,
     "read_only": false
    }
   },
   "outputs": [],
   "source": [
    "def multi_choice_wrapper(choices):\n",
    "    head = '    <choiceresponse>\\n      <checkboxgroup>\\n'\n",
    "    end = '      </checkboxgroup>\\n    </choiceresponse>\\n\\n'\n",
    "    return head+choices+end"
   ]
  },
  {
   "cell_type": "code",
   "execution_count": 10,
   "metadata": {
    "collapsed": true,
    "deletable": true,
    "editable": true,
    "hidden": true,
    "run_control": {
     "frozen": false,
     "read_only": false
    }
   },
   "outputs": [],
   "source": [
    "def correct_choice_wrapper(choice):\n",
    "    return '<choice correct=\"true\">{0}</choice>\\n'.format(choice)"
   ]
  },
  {
   "cell_type": "code",
   "execution_count": 11,
   "metadata": {
    "collapsed": true,
    "deletable": true,
    "editable": true,
    "hidden": true,
    "run_control": {
     "frozen": false,
     "read_only": false
    }
   },
   "outputs": [],
   "source": [
    "def wrong_choice_wrapper(choice):\n",
    "    return '<choice correct=\"false\">{0}</choice>\\n'.format(choice)"
   ]
  },
  {
   "cell_type": "markdown",
   "metadata": {
    "deletable": true,
    "editable": true,
    "heading_collapsed": true,
    "run_control": {
     "frozen": false,
     "read_only": false
    }
   },
   "source": [
    "# <strong style=\"color:fuchsia\">Class</strong>  Translater <span style=\"color:gray\">(empty)</span>"
   ]
  },
  {
   "cell_type": "code",
   "execution_count": 12,
   "metadata": {
    "collapsed": false,
    "deletable": true,
    "editable": true,
    "hidden": true,
    "run_control": {
     "frozen": false,
     "read_only": false
    }
   },
   "outputs": [],
   "source": [
    "import argparse\n",
    "\n",
    "class Translator:\n",
    "    \n",
    "    \"\"\"\n",
    "    Helper Functions\n",
    "    \"\"\"\n",
    "    def read_file(self, file_name):\n",
    "        f = open(file_name, \"r\")\n",
    "        contents = f.readlines()\n",
    "        f.close()\n",
    "        return contents\n",
    "\n",
    "    def write_xml(self, file_name, xml_code):\n",
    "        f = open(file_name, \"w\")\n",
    "        f.write(xml_code)\n",
    "        f.close()\n",
    "    \n",
    "    \n",
    "    \n",
    "    \"\"\"\n",
    "    The translator class translates IMD files, into other formats.     \n",
    "    \"\"\"\n",
    "    \n",
    "    def __init__(self):\n",
    "        \"\"\"   \"\"\"\n",
    "        self.x = 43\n",
    "        \n",
    "        \n",
    "    \n",
    "    def help(self):\n",
    "        print \"Please type in parameters as follow(if you have variables type in 1 at the end):\"\n",
    "        print \"python translate.py <Week ID> <Problem ID> <1>\"\n",
    "        \n",
    "    def readAssignment(self, filename, assign_id, prob_id):\n",
    "        \"\"\"\n",
    "        Reads the JSON file that conatins the mapping of problems to file path.\n",
    "        \n",
    "        Example of contents in JSON file:\n",
    "        {\n",
    "            \"Week1_Problem1\": \"imd_examples/basic_example.imd\",\n",
    "            \"Week1_Problem2\": \"imd_examples/variables_example.imd\",\n",
    "            \"Week1_Problem3\": \"imd_examples/checkbox_example.imd\",\n",
    "            \"Week1_Problem4\": \"imd_examples/dropdown_example.imd\"\n",
    "        }\n",
    "        \n",
    "        \"\"\"\n",
    "        mapping = json.load(open(filename,\"r\"))\n",
    "        mapping_key = \"Assignment{0}_Problem{1}\".format(assign_id, prob_id)\n",
    "        file_name = mapping[mapping_key]\n",
    "        input_file_name = \"input_imd/{0}\".format(file_name)\n",
    "        output_file_name = \"output_XML/{0}.xml\".format(mapping_key)\n",
    "        return input_file_name, output_file_name\n",
    "\n",
    "            "
   ]
  },
  {
   "cell_type": "markdown",
   "metadata": {
    "deletable": true,
    "editable": true,
    "heading_collapsed": true,
    "run_control": {
     "frozen": false,
     "read_only": false
    }
   },
   "source": [
    "# <span style=\"color:blue\">Function: </span> Reading imd"
   ]
  },
  {
   "cell_type": "code",
   "execution_count": null,
   "metadata": {
    "collapsed": true,
    "deletable": true,
    "editable": true,
    "hidden": true,
    "run_control": {
     "frozen": false,
     "read_only": false
    }
   },
   "outputs": [],
   "source": [
    "def loadImd(self, contents):\n",
    "    # TO DO:\n",
    "    # Break into 2 functions \n",
    "    #   Funciton 1: splitImd()  #<-- we split into 3 parts: python code, markdown, tests\n",
    "    #   Function 2: markdownToHtml  #<-- \n",
    "    \n",
    "    \n",
    "    '''\n",
    "    Given imd file content, split python code and markdown code.\n",
    "    Then, convert markdown code to HTML.\n",
    "    input:\n",
    "        contents: imd file content\n",
    "    output:\n",
    "        python_code: python code\n",
    "        html_code: converted from markdown code to html code\n",
    "    '''\n",
    "\n",
    "    if \"```python\\n\" in contents:\n",
    "        start_index = contents.index(\"```python\\n\")\n",
    "        end_index = contents.index(\"```\\n\")\n",
    "        python_code = contents[start_index+1:end_index]\n",
    "        python_code = \"\".join(python_code)\n",
    "        md_code = contents[end_index+1:]\n",
    "    else:\n",
    "        python_code = \"\"\n",
    "        md_code = contents\n",
    "\n",
    "    inline = 0  # open or closed parantheses\n",
    "    double = 0  # open or closed brackets\n",
    "    inlineSub = ['\\\\\\\\\\\\(', '\\\\\\\\\\\\)']\n",
    "    doubleSub = ['\\\\\\\\\\\\[', '\\\\\\\\\\\\]']\n",
    "\n",
    "    # Read markdown line by line\n",
    "    for j in xrange(len(md_code)):\n",
    "        line = md_code[j]\n",
    "\n",
    "        # trim the empty space at the front\n",
    "        while line[0] == \" \":\n",
    "            line = line[1:]\n",
    "\n",
    "        # trim the empty space at the end, but preserve the newline\n",
    "        while len(line) > 3 and line[-2] == \" \":\n",
    "            line = line[:-2] + line[-1]\n",
    "\n",
    "        line = line.replace('\\\\$','\\001')   # record dollar sign in $var by a safe substitute\n",
    "\n",
    "        i=0\n",
    "        while i < len(line):\n",
    "            if line[i:i+2] == '$$':\n",
    "                line = line[:i]+doubleSub[double]+line[i+2:]\n",
    "                double = 1 - double\n",
    "                i += 4\n",
    "            elif line[i] == '$':\n",
    "                line = line[:i]+inlineSub[inline]+line[i+1:]\n",
    "                inline = 1-inline\n",
    "                i += 4\n",
    "            else:\n",
    "                i += 1\n",
    "\n",
    "        line = line.replace('\\001','$')\n",
    "        md_code[j] = line\n",
    "    html_code = markdown.markdown(\"\".join(md_code), extensions=['markdown.extensions.tables'], output_format=\"HTML\")\n",
    "\n",
    "    f.close()\n",
    "\n",
    "    return python_code, html_code"
   ]
  },
  {
   "cell_type": "markdown",
   "metadata": {
    "deletable": true,
    "editable": true,
    "heading_collapsed": true,
    "run_control": {
     "frozen": false,
     "read_only": false
    }
   },
   "source": [
    "# <span style=\"color:blue\">Function: </span> Imd to Html"
   ]
  },
  {
   "cell_type": "code",
   "execution_count": 11,
   "metadata": {
    "collapsed": true,
    "deletable": true,
    "editable": true,
    "hidden": true,
    "run_control": {
     "frozen": false,
     "read_only": false
    }
   },
   "outputs": [],
   "source": [
    "def toHtml(self, md_code):\n",
    "    \"\"\"\n",
    "    translates the markdown to html\n",
    "    interpolates the variables (later possibley display it, with input boxes)\n",
    "\n",
    "    \"\"\"\n",
    "    html_code = markdown.markdown(\"\".join(md_code), extensions=['markdown.extensions.tables'], output_format=\"HTML\")\n",
    "    return html_code\n",
    "\n",
    "Translator.toHtml = toHtml"
   ]
  },
  {
   "cell_type": "markdown",
   "metadata": {
    "deletable": true,
    "editable": true,
    "heading_collapsed": true,
    "run_control": {
     "frozen": false,
     "read_only": false
    }
   },
   "source": [
    "# <span style=\"color:blue\">Function: </span> Make xml "
   ]
  },
  {
   "cell_type": "code",
   "execution_count": null,
   "metadata": {
    "collapsed": true,
    "deletable": true,
    "editable": true,
    "hidden": true,
    "run_control": {
     "frozen": false,
     "read_only": false
    }
   },
   "outputs": [],
   "source": [
    "\n",
    "def toXml(self, html_code, py_code):\n",
    "    \"\"\"\n",
    "    returns the XML code that is to be pasted into EDX studio\n",
    "    \"\"\"\n",
    "    html_code = html_code.splitlines()\n",
    "    py_code_lines = py_code.splitlines()\n",
    "\n",
    "    choice_list = \"\"\n",
    "    updated_html_code = []\n",
    "    part_id = 1\n",
    "    for line in html_code:\n",
    "        if '<p>[_choice]</p>' == line:\n",
    "            updated_html_code += ['\\n', '\\n']\n",
    "            for s in py_code_lines:\n",
    "                if '=' not in s:\n",
    "                    continue\n",
    "                strip_start_index = s.index('=')\n",
    "                strip_s = s[:strip_start_index+1].replace(\" \", \"\") + s[strip_start_index+1:]\n",
    "                sol_str = 'solution'+str(part_id)+\"=\"\n",
    "                opt_str = 'option'+str(part_id)+\"=\"\n",
    "                if sol_str in strip_s:\n",
    "                    sol_index = strip_s.index(sol_str)\n",
    "                    sol = strip_s[sol_index+len(sol_str):]\n",
    "                    while sol[0] == ' ':\n",
    "                        sol = sol[1:]\n",
    "                    sol = sol.replace('\\n','')\n",
    "                    sol = sol.replace('\"','')\n",
    "                    sol = sol.replace(\"'\", \"\")\n",
    "                elif opt_str in strip_s:\n",
    "                    opt_index = strip_s.index(opt_str)\n",
    "                    opt = strip_s[opt_index+len(opt_str):]\n",
    "                    while opt[0] == ' ':\n",
    "                        opt = opt[1:]\n",
    "                    opt = opt.replace(\"\\n\",\"\")\n",
    "\n",
    "            xml_code = option_wrapper(opt, sol)\n",
    "            updated_html_code += xml_code\n",
    "            part_id += 1\n",
    "\n",
    "        elif '<p>[_]</p>' == line:\n",
    "            xml_code = math_wrapper('solution'+str(part_id))\n",
    "            updated_html_code += xml_code\n",
    "            part_id += 1\n",
    "\n",
    "        elif '[ ]' in line or '[x]' in line:\n",
    "            # trim <p> and </p>\n",
    "            if '<p>' in line:\n",
    "                updated_html_code += ['\\n', '\\n']\n",
    "                choice_context = line[3:]\n",
    "            if '</p>' in line:\n",
    "                end_index = line.index(\"</p>\")\n",
    "                choice_context = line[:end_index]\n",
    "\n",
    "            while choice_context[0] == ' ':\n",
    "                choice_context = choice_context[1:]\n",
    "            while choice_context[-1] == ' ':\n",
    "                choice_context = choice_context[:-1]\n",
    "\n",
    "            if '[ ]' in line:\n",
    "                choice_insert = wrong_choice_wrapper(choice_context[3:])\n",
    "            elif '[x]' in line:\n",
    "                choice_insert = correct_choice_wrapper(choice_context[3:])\n",
    "\n",
    "            choice_list += choice_insert\n",
    "\n",
    "            if '</p>' in line:\n",
    "                updated_html_code += multi_choice_wrapper(choice_list)\n",
    "                part_id += 1\n",
    "                choice_list = \"\"\n",
    "\n",
    "        else:\n",
    "            updated_html_code.append(line)\n",
    "            updated_html_code.append(\"\\n\")\n",
    "\n",
    "    updated_html_code = \"\".join(updated_html_code)\n",
    "    xml_code = XML_wrapper(py_wrapper(py_code) + updated_html_code)\n",
    "    return \"\".join(xml_code)\n",
    "\n",
    "\n",
    "Translator.toXml = toXml\n"
   ]
  },
  {
   "cell_type": "markdown",
   "metadata": {
    "collapsed": true,
    "deletable": true,
    "editable": true,
    "heading_collapsed": true,
    "run_control": {
     "frozen": false,
     "read_only": false
    }
   },
   "source": [
    "# <span style=\"color:blue\">Function: </span> Test Problem"
   ]
  },
  {
   "cell_type": "code",
   "execution_count": 14,
   "metadata": {
    "collapsed": false,
    "deletable": true,
    "editable": true,
    "hidden": true,
    "run_control": {
     "frozen": false,
     "read_only": false
    }
   },
   "outputs": [],
   "source": [
    "def test(self):\n",
    "    \"\"\"\n",
    "    Tests the IMD code, the code will be in 3 parts. \n",
    "        1: python code\n",
    "        2: tests\n",
    "        3: the markdown\n",
    "\n",
    "    2: Tests\n",
    "        A test consists of:\n",
    "            set variables\n",
    "            computed answers\n",
    "            correct and incorrect answers\n",
    "\n",
    "    Tests returns\n",
    "        a boolean variable of correctness\n",
    "        a string describing the error if it was incorrect\n",
    "\n",
    "    \"\"\"\n",
    "    print(self.x)\n",
    "\n",
    "    \n",
    "Translator.test = test"
   ]
  },
  {
   "cell_type": "code",
   "execution_count": null,
   "metadata": {
    "collapsed": true,
    "deletable": true,
    "editable": true,
    "hidden": true,
    "run_control": {
     "frozen": false,
     "read_only": false
    }
   },
   "outputs": [],
   "source": []
  },
  {
   "cell_type": "markdown",
   "metadata": {
    "deletable": true,
    "editable": true,
    "heading_collapsed": true,
    "run_control": {
     "frozen": false,
     "read_only": false
    }
   },
   "source": [
    "# Main Function"
   ]
  },
  {
   "cell_type": "markdown",
   "metadata": {
    "deletable": true,
    "editable": true,
    "hidden": true,
    "run_control": {
     "frozen": false,
     "read_only": false
    }
   },
   "source": [
    "<span style=\"color:red\" >Note:</span> This is the intro the prof had for `__main__`\n",
    "\n",
    "```python\n",
    "if __name__ == \"__main__\":\n",
    "    args = parser.parser_args()\n",
    "```\n",
    "\n",
    "\n"
   ]
  },
  {
   "cell_type": "code",
   "execution_count": null,
   "metadata": {
    "collapsed": true,
    "deletable": true,
    "editable": true,
    "hidden": true,
    "run_control": {
     "frozen": false,
     "read_only": false
    }
   },
   "outputs": [],
   "source": [
    "if __name__ == \"__main__\":\n",
    "    # Define help\n",
    "    if sys.argv[1] == \"--help\":\n",
    "        print \"Please type in parameters as follow(if you have variables type in 1 at the end):\"\n",
    "        print \"python translate.py <Week ID> <Problem ID> <1>\"\n",
    "        sys.exit()\n",
    "\n",
    "    # Get variables\n",
    "    var = \"\"\n",
    "    if len(sys.argv) == 3:\n",
    "        week, problem = sys.argv[1:]\n",
    "    elif len(sys.argv) == 4:\n",
    "        week, problem, var = sys.argv[1:]\n",
    "    else:\n",
    "        sys.exit(\"Error, see 'python translate.py --help' for input requirement\")\n",
    "\n",
    "    # Start converting\n",
    "    print \"  Reading imd ...\"\n",
    "    input_file_name, output_file_name = read_json(week, problem)\n",
    "    contents = read_file(input_file_name)\n",
    "    py_code, imd_code, test_code = read_imd(contents)\n",
    "\n",
    "    print \"  Generating XML ...\"\n",
    "    html_code = convert_imd2html(imd_code)\n",
    "    xml_code = make_xml(html_code, py_code)\n",
    "    write_xml(output_file_name, xml_code)\n",
    "\n",
    "    print \"  Testing XML ...\"\n",
    "    # TODO HERE\n",
    "\n",
    "    print \"All tests passed. XML files saved in output_XML folder!\"\n",
    "\n"
   ]
  },
  {
   "cell_type": "markdown",
   "metadata": {
    "deletable": true,
    "editable": true,
    "run_control": {
     "frozen": false,
     "read_only": false
    }
   },
   "source": [
    "# <hr>"
   ]
  },
  {
   "cell_type": "code",
   "execution_count": null,
   "metadata": {
    "collapsed": true,
    "deletable": true,
    "editable": true,
    "run_control": {
     "frozen": false,
     "read_only": false
    }
   },
   "outputs": [],
   "source": [
    "\n",
    "\n",
    "\n",
    "\n",
    "\n",
    "\n",
    "\n",
    "\n",
    "\n",
    "\n",
    "\n"
   ]
  }
 ],
 "metadata": {
  "kernelspec": {
   "display_name": "Python 2",
   "language": "python",
   "name": "python2"
  },
  "language_info": {
   "codemirror_mode": {
    "name": "ipython",
    "version": 2
   },
   "file_extension": ".py",
   "mimetype": "text/x-python",
   "name": "python",
   "nbconvert_exporter": "python",
   "pygments_lexer": "ipython2",
   "version": "2.7.6"
  },
  "toc": {
   "colors": {
    "hover_highlight": "#DAA520",
    "running_highlight": "#FF0000",
    "selected_highlight": "#FFD700"
   },
   "moveMenuLeft": true,
   "nav_menu": {
    "height": "211px",
    "width": "252px"
   },
   "navigate_menu": true,
   "number_sections": true,
   "sideBar": true,
   "threshold": 4,
   "toc_cell": false,
   "toc_section_display": "block",
   "toc_window_display": true,
   "widenNotebook": false
  }
 },
 "nbformat": 4,
 "nbformat_minor": 2
}
