{
 "cells": [
  {
   "cell_type": "markdown",
   "metadata": {
    "deletable": true,
    "editable": true,
    "run_control": {
     "frozen": false,
     "read_only": false
    }
   },
   "source": [
    "# Translator Class"
   ]
  },
  {
   "cell_type": "markdown",
   "metadata": {
    "deletable": true,
    "editable": true,
    "run_control": {
     "frozen": false,
     "read_only": false
    }
   },
   "source": [
    "<strong> This file contains all of the code for the translator class. </strong>\n",
    "\n",
    "Putting the code for this class in an .ipynb makes it so that we can work on this class together in real time. There could possibly be some overwrite issues if we are both working on the file at the same time. But an easy fix to that problem is to simply make a copy of this file and then to work on the copy. We should also notify each other when we are changing the main .ipynb file. Once finished, the copy can be pasted back into the main Translator Class file.\n",
    "\n",
    "Once we have finished the translator class we can copy and paste all this stuff into a .py file for implementation."
   ]
  },
  {
   "cell_type": "markdown",
   "metadata": {
    "deletable": true,
    "editable": true,
    "run_control": {
     "frozen": false,
     "read_only": false
    }
   },
   "source": [
    "# Setup Notebook"
   ]
  },
  {
   "cell_type": "markdown",
   "metadata": {
    "deletable": true,
    "editable": true,
    "run_control": {
     "frozen": false,
     "read_only": false
    }
   },
   "source": [
    "#### import"
   ]
  },
  {
   "cell_type": "code",
   "execution_count": 1,
   "metadata": {
    "collapsed": true,
    "deletable": true,
    "editable": true,
    "run_control": {
     "frozen": false,
     "read_only": false
    }
   },
   "outputs": [],
   "source": [
    "import markdown\n",
    "import json\n",
    "import sys\n",
    "import argparse"
   ]
  },
  {
   "cell_type": "markdown",
   "metadata": {
    "deletable": true,
    "editable": true,
    "run_control": {
     "frozen": false,
     "read_only": false
    }
   },
   "source": [
    "#### Wrappers"
   ]
  },
  {
   "cell_type": "code",
   "execution_count": 2,
   "metadata": {
    "collapsed": true,
    "deletable": true,
    "editable": true,
    "run_control": {
     "frozen": false,
     "read_only": false
    }
   },
   "outputs": [],
   "source": [
    "def XML_wrapper(content):\n",
    "    return '<problem>\\n  <text>\\n{0}\\n  </text>\\n</problem>\\n'.format(content)"
   ]
  },
  {
   "cell_type": "code",
   "execution_count": 3,
   "metadata": {
    "collapsed": true,
    "deletable": true,
    "editable": true,
    "run_control": {
     "frozen": false,
     "read_only": false
    }
   },
   "outputs": [],
   "source": [
    "def py_wrapper(code):\n",
    "    #XML_PY_EVAL = XML_PY_START + 'from hint import evaluate\\ndef check(expect, ans):\\n  return evaluate.evaluate(expect, ans)\\n' + XML_PY_END\n",
    "    return '    <script type=\"loncapa/python\">\\n{0}\\n    </script>\\n\\n\\n'.format(code)\n"
   ]
  },
  {
   "cell_type": "code",
   "execution_count": 4,
   "metadata": {
    "collapsed": true,
    "deletable": true,
    "editable": true,
    "run_control": {
     "frozen": false,
     "read_only": false
    }
   },
   "outputs": [],
   "source": [
    "def math_wrapper(sol):\n",
    "    return '    <customresponse cfn=\"check\" expect=\"\\[${0}\\]\">\\n      <textline/>\\n    </customresponse>\\n\\n'.format(sol)"
   ]
  },
  {
   "cell_type": "code",
   "execution_count": 5,
   "metadata": {
    "collapsed": true,
    "deletable": true,
    "editable": true,
    "run_control": {
     "frozen": false,
     "read_only": false
    }
   },
   "outputs": [],
   "source": [
    "def option_wrapper(opt, sol):\n",
    "    opt_string = '      <optioninput options=\"${0}\" correct=\"${1}\"/>'.format(opt, sol)\n",
    "    return '    <optionresponse>\\n'+opt_string+'\\n    </optionresponse>\\n\\n'"
   ]
  },
  {
   "cell_type": "code",
   "execution_count": 6,
   "metadata": {
    "collapsed": true,
    "deletable": true,
    "editable": true,
    "run_control": {
     "frozen": false,
     "read_only": false
    }
   },
   "outputs": [],
   "source": [
    "def multi_choice_wrapper(choices):\n",
    "    head = '    <choiceresponse>\\n      <checkboxgroup>\\n'\n",
    "    end = '      </checkboxgroup>\\n    </choiceresponse>\\n\\n'\n",
    "    return head+choices+end"
   ]
  },
  {
   "cell_type": "code",
   "execution_count": 7,
   "metadata": {
    "collapsed": true,
    "deletable": true,
    "editable": true,
    "run_control": {
     "frozen": false,
     "read_only": false
    }
   },
   "outputs": [],
   "source": [
    "def correct_choice_wrapper(choice):\n",
    "    return '<choice correct=\"true\">{0}</choice>\\n'.format(choice)"
   ]
  },
  {
   "cell_type": "code",
   "execution_count": 8,
   "metadata": {
    "collapsed": true,
    "deletable": true,
    "editable": true,
    "run_control": {
     "frozen": false,
     "read_only": false
    }
   },
   "outputs": [],
   "source": [
    "def wrong_choice_wrapper(choice):\n",
    "    return '<choice correct=\"false\">{0}</choice>\\n'.format(choice)"
   ]
  },
  {
   "cell_type": "markdown",
   "metadata": {
    "deletable": true,
    "editable": true,
    "run_control": {
     "frozen": false,
     "read_only": false
    }
   },
   "source": [
    "# <strong style=\"color:fuchsia\">Class</strong>  Translater <span style=\"color:gray\">(empty)</span>"
   ]
  },
  {
   "cell_type": "code",
   "execution_count": 9,
   "metadata": {
    "collapsed": false,
    "deletable": true,
    "editable": true,
    "run_control": {
     "frozen": false,
     "read_only": false
    }
   },
   "outputs": [],
   "source": [
    "class Translator:\n",
    "    \n",
    "    \"\"\"\n",
    "    Helper Functions\n",
    "    \"\"\"\n",
    "    def read_imd(self):\n",
    "        f = open(self.input_file, \"r\")\n",
    "        contents = f.readlines()\n",
    "        f.close()\n",
    "        self.imd = contents\n",
    "\n",
    "    def write_xml(self):\n",
    "        f = open(self.output_file, \"w\")\n",
    "        f.write(self.xml_code)\n",
    "        f.close()\n",
    "    \n",
    "    \n",
    "    \n",
    "    \"\"\"\n",
    "    The translator class translates IMD files, into other formats.     \n",
    "    \"\"\"\n",
    "    \n",
    "    def __init__(self):\n",
    "        \"\"\"   \n",
    "        \"\"\"\n",
    "        \n",
    "    def help(self):\n",
    "        print \"Please type in parameters as follow(if you have variables type in 1 at the end):\"\n",
    "        print \"python translate.py <Assignment ID> <Problem ID> <1>\"\n",
    "        \n",
    "    def readAssignment(self, mapping_filename, assign_id, prob_id):\n",
    "        \"\"\"\n",
    "        Reads the JSON file that conatins the mapping of problems to file path.\n",
    "        \n",
    "        Example of contents in JSON file:\n",
    "        {\n",
    "            \"Assignment1_Problem1\": \"imd_examples/basic_example.imd\",\n",
    "            \"Assignment1_Problem2\": \"imd_examples/variables_example.imd\",\n",
    "            \"Assignment1_Problem3\": \"imd_examples/checkbox_example.imd\",\n",
    "            \"Assignment1_Problem4\": \"imd_examples/dropdown_example.imd\"\n",
    "        }\n",
    "        \n",
    "        \"\"\"\n",
    "        mapping = json.load(open(mapping_filename,\"r\"))\n",
    "        mapping_key = \"Assignment{0}_Problem{1}\".format(assign_id, prob_id)\n",
    "        file_name = mapping[mapping_key]\n",
    "        self.input_file = \"input_imd/{0}\".format(file_name)\n",
    "        self.output_file = \"output_XML/{0}.xml\".format(mapping_key)\n",
    "            "
   ]
  },
  {
   "cell_type": "markdown",
   "metadata": {
    "deletable": true,
    "editable": true,
    "heading_collapsed": true,
    "run_control": {
     "frozen": false,
     "read_only": false
    }
   },
   "source": [
    "# <span style=\"color:blue\">Function: </span> Split imd into python, md, test"
   ]
  },
  {
   "cell_type": "code",
   "execution_count": 10,
   "metadata": {
    "collapsed": false,
    "deletable": true,
    "editable": true,
    "hidden": true,
    "run_control": {
     "frozen": false,
     "read_only": false
    }
   },
   "outputs": [],
   "source": [
    "def loadImd(self):    \n",
    "    '''\n",
    "    Given imd file content, split python code, markdown code, and test code.\n",
    "    input:\n",
    "        contents: imd file content\n",
    "    output:\n",
    "        python_code: python code\n",
    "        md_code: markdown code\n",
    "        test_code: test code in python\n",
    "    '''\n",
    "\n",
    "    contents = self.imd\n",
    "    # Find python code\n",
    "    if \"```python\\n\" in contents:\n",
    "        start_index = contents.index(\"```python\\n\")\n",
    "        end_index = contents.index(\"```\\n\")\n",
    "        python_code = contents[start_index+1:end_index]\n",
    "        python_code = \"\".join(python_code)\n",
    "        contents = contents[:start_index] + contents[end_index+1:]\n",
    "    else:\n",
    "        python_code = \"\"\n",
    "\n",
    "    # Find test code\n",
    "    if \"```test\\n\" in contents:\n",
    "        start_index = contents.index(\"```test\\n\")\n",
    "        if \"```\\n\" in contents:\n",
    "            end_index = contents.index(\"```\\n\")\n",
    "        elif \"```\" in contents:\n",
    "            end_index = contents.index(\"```\")\n",
    "        else:\n",
    "            print \"didn't close test section\"\n",
    "        test_code = contents[start_index+1:end_index]\n",
    "        test_code = \"\".join(test_code)\n",
    "        contents = contents[:start_index] + contents[end_index+1:]\n",
    "    else:\n",
    "        test_code = \"\"\n",
    "\n",
    "    md_code = contents[:]\n",
    "\n",
    "    inline = 0  # open or closed parantheses\n",
    "    double = 0  # open or closed brackets\n",
    "    inlineSub = ['\\\\\\\\\\\\(', '\\\\\\\\\\\\)']\n",
    "    doubleSub = ['\\\\\\\\\\\\[', '\\\\\\\\\\\\]']\n",
    "\n",
    "    # Read markdown line by line\n",
    "    for j in xrange(len(md_code)):\n",
    "        line = md_code[j]\n",
    "\n",
    "        # trim the empty space at the front\n",
    "        while line[0] == \" \":\n",
    "            line = line[1:]\n",
    "\n",
    "        # trim the empty space at the end, but preserve the newline\n",
    "        while len(line) > 3 and line[-2] == \" \":\n",
    "            line = line[:-2] + line[-1]\n",
    "\n",
    "        # record $ sign in $var by a safe substitute\n",
    "        line = line.replace('\\\\$','\\001')\n",
    "\n",
    "        # substitute inline and newline math expression wrapper\n",
    "        i=0\n",
    "        while i < len(line):\n",
    "            if line[i:i+2] == '$$':\n",
    "                line = line[:i]+doubleSub[double]+line[i+2:]\n",
    "                double = 1 - double\n",
    "                i += 4\n",
    "            elif line[i] == '$':\n",
    "                line = line[:i]+inlineSub[inline]+line[i+1:]\n",
    "                inline = 1-inline\n",
    "                i += 4\n",
    "            else:\n",
    "                i += 1\n",
    "\n",
    "        # mark variables with $ sign\n",
    "        line = line.replace('\\001','$')\n",
    "        md_code[j] = line\n",
    "\n",
    "    self.py_code = python_code\n",
    "    self.md_code = md_code\n",
    "    self.test_code = test_code\n",
    "\n",
    "Translator.loadImd = loadImd"
   ]
  },
  {
   "cell_type": "markdown",
   "metadata": {
    "deletable": true,
    "editable": true,
    "heading_collapsed": true,
    "run_control": {
     "frozen": false,
     "read_only": false
    }
   },
   "source": [
    "# <span style=\"color:blue\">Function: </span> Imd to Html"
   ]
  },
  {
   "cell_type": "code",
   "execution_count": 11,
   "metadata": {
    "collapsed": true,
    "deletable": true,
    "editable": true,
    "hidden": true,
    "run_control": {
     "frozen": false,
     "read_only": false
    }
   },
   "outputs": [],
   "source": [
    "def toHtml(self):\n",
    "    \"\"\"\n",
    "    translates the markdown to html\n",
    "    interpolates the variables (later possibley display it, with input boxes)\n",
    "\n",
    "    \"\"\"\n",
    "    html_code = markdown.markdown(\"\".join(self.md_code), extensions=['markdown.extensions.tables'], output_format=\"HTML\")\n",
    "    self.html_code = html_code\n",
    "\n",
    "Translator.toHtml = toHtml"
   ]
  },
  {
   "cell_type": "markdown",
   "metadata": {
    "deletable": true,
    "editable": true,
    "heading_collapsed": true,
    "run_control": {
     "frozen": false,
     "read_only": false
    }
   },
   "source": [
    "# <span style=\"color:blue\">Function: </span> Make XML"
   ]
  },
  {
   "cell_type": "code",
   "execution_count": 12,
   "metadata": {
    "collapsed": true,
    "deletable": true,
    "editable": true,
    "hidden": true,
    "run_control": {
     "frozen": false,
     "read_only": false
    }
   },
   "outputs": [],
   "source": [
    "def toXml(self):\n",
    "    \"\"\"\n",
    "    returns the XML code that is to be pasted into EDX studio\n",
    "    \"\"\"\n",
    "    html_code = self.html_code.splitlines()\n",
    "    py_code_lines = self.py_code.splitlines()\n",
    "\n",
    "    choice_list = \"\"\n",
    "    updated_html_code = []\n",
    "    part_id = 1\n",
    "    for line in html_code:\n",
    "        if '<p>[_choice]</p>' == line:\n",
    "            updated_html_code += ['\\n', '\\n']\n",
    "            for s in py_code_lines:\n",
    "                if '=' not in s:\n",
    "                    continue\n",
    "                strip_start_index = s.index('=')\n",
    "                strip_s = s[:strip_start_index+1].replace(\" \", \"\") + s[strip_start_index+1:]\n",
    "                sol_str = 'solution'+str(part_id)+\"=\"\n",
    "                opt_str = 'option'+str(part_id)+\"=\"\n",
    "                if sol_str in strip_s:\n",
    "                    sol_index = strip_s.index(sol_str)\n",
    "                    sol = strip_s[sol_index+len(sol_str):]\n",
    "                    while sol[0] == ' ':\n",
    "                        sol = sol[1:]\n",
    "                    sol = sol.replace('\\n','')\n",
    "                    sol = sol.replace('\"','')\n",
    "                    sol = sol.replace(\"'\", \"\")\n",
    "                elif opt_str in strip_s:\n",
    "                    opt_index = strip_s.index(opt_str)\n",
    "                    opt = strip_s[opt_index+len(opt_str):]\n",
    "                    while opt[0] == ' ':\n",
    "                        opt = opt[1:]\n",
    "                    opt = opt.replace(\"\\n\",\"\")\n",
    "\n",
    "            xml_code = option_wrapper(opt, sol)\n",
    "            updated_html_code += xml_code\n",
    "            part_id += 1\n",
    "\n",
    "        elif '<p>[_]</p>' == line:\n",
    "            xml_code = math_wrapper('solution'+str(part_id))\n",
    "            updated_html_code += xml_code\n",
    "            part_id += 1\n",
    "\n",
    "        elif '[ ]' in line or '[x]' in line:\n",
    "            # trim <p> and </p>\n",
    "            if '<p>' in line:\n",
    "                updated_html_code += ['\\n', '\\n']\n",
    "                choice_context = line[3:]\n",
    "            if '</p>' in line:\n",
    "                end_index = line.index(\"</p>\")\n",
    "                choice_context = line[:end_index]\n",
    "\n",
    "            while choice_context[0] == ' ':\n",
    "                choice_context = choice_context[1:]\n",
    "            while choice_context[-1] == ' ':\n",
    "                choice_context = choice_context[:-1]\n",
    "\n",
    "            if '[ ]' in line:\n",
    "                choice_insert = wrong_choice_wrapper(choice_context[3:])\n",
    "            elif '[x]' in line:\n",
    "                choice_insert = correct_choice_wrapper(choice_context[3:])\n",
    "\n",
    "            choice_list += choice_insert\n",
    "\n",
    "            if '</p>' in line:\n",
    "                updated_html_code += multi_choice_wrapper(choice_list)\n",
    "                part_id += 1\n",
    "                choice_list = \"\"\n",
    "\n",
    "        else:\n",
    "            updated_html_code.append(line)\n",
    "            updated_html_code.append(\"\\n\")\n",
    "\n",
    "    updated_html_code = \"\".join(updated_html_code)\n",
    "    xml_code = XML_wrapper(py_wrapper(py_code) + updated_html_code)\n",
    "    self.xml_code = \"\".join(xml_code)\n",
    "\n",
    "\n",
    "Translator.toXml = toXml\n"
   ]
  },
  {
   "cell_type": "markdown",
   "metadata": {
    "collapsed": true,
    "deletable": true,
    "editable": true,
    "heading_collapsed": true,
    "run_control": {
     "frozen": false,
     "read_only": false
    }
   },
   "source": [
    "# <span style=\"color:blue\">Function: </span> Test Problem"
   ]
  },
  {
   "cell_type": "code",
   "execution_count": 13,
   "metadata": {
    "collapsed": false,
    "deletable": true,
    "editable": true,
    "hidden": true,
    "run_control": {
     "frozen": false,
     "read_only": false
    }
   },
   "outputs": [],
   "source": [
    "def test(self):\n",
    "    \"\"\"\n",
    "    Tests the IMD code, the code will be in 3 parts. \n",
    "        1: python code\n",
    "        2: tests\n",
    "        3: the markdown\n",
    "\n",
    "    2: Tests\n",
    "        A test consists of:\n",
    "            set variables\n",
    "            computed answers\n",
    "            correct and incorrect answers\n",
    "\n",
    "    Tests returns\n",
    "        a boolean variable of correctness\n",
    "        a string describing the error if it was incorrect\n",
    "\n",
    "    \"\"\"\n",
    "    print(\"Unfinished\")\n",
    "\n",
    "    \n",
    "Translator.test = test"
   ]
  },
  {
   "cell_type": "code",
   "execution_count": null,
   "metadata": {
    "collapsed": true,
    "deletable": true,
    "editable": true,
    "hidden": true,
    "run_control": {
     "frozen": false,
     "read_only": false
    }
   },
   "outputs": [],
   "source": []
  },
  {
   "cell_type": "markdown",
   "metadata": {
    "deletable": true,
    "editable": true,
    "run_control": {
     "frozen": false,
     "read_only": false
    }
   },
   "source": [
    "# Main Function"
   ]
  },
  {
   "cell_type": "markdown",
   "metadata": {
    "deletable": true,
    "editable": true,
    "run_control": {
     "frozen": false,
     "read_only": false
    }
   },
   "source": [
    "<span style=\"color:red\" >Note:</span> This is the intro the prof had for `__main__`\n",
    "\n",
    "```python\n",
    "if __name__ == \"__main__\":\n",
    "    args = parser.parser_args()\n",
    "```\n",
    "\n",
    "\n"
   ]
  },
  {
   "cell_type": "code",
   "execution_count": 14,
   "metadata": {
    "collapsed": false,
    "deletable": true,
    "editable": true,
    "run_control": {
     "frozen": false,
     "read_only": false
    }
   },
   "outputs": [
    {
     "name": "stdout",
     "output_type": "stream",
     "text": [
      "  Reading imd ...\n"
     ]
    },
    {
     "ename": "KeyError",
     "evalue": "'Assignment-f_Problem/run/user/1000/jupyter/kernel-8909eb75-7533-4dd5-94e3-837a96d18fa2.json'",
     "output_type": "error",
     "traceback": [
      "\u001b[0;31m---------------------------------------------------------------------------\u001b[0m",
      "\u001b[0;31mKeyError\u001b[0m                                  Traceback (most recent call last)",
      "\u001b[0;32m<ipython-input-14-98a7fac98062>\u001b[0m in \u001b[0;36m<module>\u001b[0;34m()\u001b[0m\n\u001b[1;32m     13\u001b[0m     \u001b[0mtranslator\u001b[0m \u001b[0;34m=\u001b[0m \u001b[0mTranslator\u001b[0m\u001b[0;34m(\u001b[0m\u001b[0;34m)\u001b[0m\u001b[0;34m\u001b[0m\u001b[0m\n\u001b[1;32m     14\u001b[0m     \u001b[0;32mprint\u001b[0m \u001b[0;34m\"  Reading imd ...\"\u001b[0m\u001b[0;34m\u001b[0m\u001b[0m\n\u001b[0;32m---> 15\u001b[0;31m     \u001b[0mtranslator\u001b[0m\u001b[0;34m.\u001b[0m\u001b[0mreadAssignment\u001b[0m\u001b[0;34m(\u001b[0m\u001b[0;34m'problems_mapping.json'\u001b[0m\u001b[0;34m,\u001b[0m \u001b[0massign_id\u001b[0m\u001b[0;34m,\u001b[0m \u001b[0mproblem_id\u001b[0m\u001b[0;34m)\u001b[0m\u001b[0;34m\u001b[0m\u001b[0m\n\u001b[0m\u001b[1;32m     16\u001b[0m     \u001b[0mtranslator\u001b[0m\u001b[0;34m.\u001b[0m\u001b[0mread_imd\u001b[0m\u001b[0;34m(\u001b[0m\u001b[0;34m)\u001b[0m\u001b[0;34m\u001b[0m\u001b[0m\n\u001b[1;32m     17\u001b[0m     \u001b[0mtranslator\u001b[0m\u001b[0;34m.\u001b[0m\u001b[0mloadImd\u001b[0m\u001b[0;34m(\u001b[0m\u001b[0;34m)\u001b[0m\u001b[0;34m\u001b[0m\u001b[0m\n",
      "\u001b[0;32m<ipython-input-9-53d0d3a08d44>\u001b[0m in \u001b[0;36mreadAssignment\u001b[0;34m(self, mapping_filename, assign_id, prob_id)\u001b[0m\n\u001b[1;32m     46\u001b[0m         \u001b[0mmapping\u001b[0m \u001b[0;34m=\u001b[0m \u001b[0mjson\u001b[0m\u001b[0;34m.\u001b[0m\u001b[0mload\u001b[0m\u001b[0;34m(\u001b[0m\u001b[0mopen\u001b[0m\u001b[0;34m(\u001b[0m\u001b[0mmapping_filename\u001b[0m\u001b[0;34m,\u001b[0m\u001b[0;34m\"r\"\u001b[0m\u001b[0;34m)\u001b[0m\u001b[0;34m)\u001b[0m\u001b[0;34m\u001b[0m\u001b[0m\n\u001b[1;32m     47\u001b[0m         \u001b[0mmapping_key\u001b[0m \u001b[0;34m=\u001b[0m \u001b[0;34m\"Assignment{0}_Problem{1}\"\u001b[0m\u001b[0;34m.\u001b[0m\u001b[0mformat\u001b[0m\u001b[0;34m(\u001b[0m\u001b[0massign_id\u001b[0m\u001b[0;34m,\u001b[0m \u001b[0mprob_id\u001b[0m\u001b[0;34m)\u001b[0m\u001b[0;34m\u001b[0m\u001b[0m\n\u001b[0;32m---> 48\u001b[0;31m         \u001b[0mfile_name\u001b[0m \u001b[0;34m=\u001b[0m \u001b[0mmapping\u001b[0m\u001b[0;34m[\u001b[0m\u001b[0mmapping_key\u001b[0m\u001b[0;34m]\u001b[0m\u001b[0;34m\u001b[0m\u001b[0m\n\u001b[0m\u001b[1;32m     49\u001b[0m         \u001b[0mself\u001b[0m\u001b[0;34m.\u001b[0m\u001b[0minput_file\u001b[0m \u001b[0;34m=\u001b[0m \u001b[0;34m\"input_imd/{0}\"\u001b[0m\u001b[0;34m.\u001b[0m\u001b[0mformat\u001b[0m\u001b[0;34m(\u001b[0m\u001b[0mfile_name\u001b[0m\u001b[0;34m)\u001b[0m\u001b[0;34m\u001b[0m\u001b[0m\n\u001b[1;32m     50\u001b[0m         \u001b[0mself\u001b[0m\u001b[0;34m.\u001b[0m\u001b[0moutput_file\u001b[0m \u001b[0;34m=\u001b[0m \u001b[0;34m\"output_XML/{0}.xml\"\u001b[0m\u001b[0;34m.\u001b[0m\u001b[0mformat\u001b[0m\u001b[0;34m(\u001b[0m\u001b[0mmapping_key\u001b[0m\u001b[0;34m)\u001b[0m\u001b[0;34m\u001b[0m\u001b[0m\n",
      "\u001b[0;31mKeyError\u001b[0m: 'Assignment-f_Problem/run/user/1000/jupyter/kernel-8909eb75-7533-4dd5-94e3-837a96d18fa2.json'"
     ]
    }
   ],
   "source": [
    "if __name__ == \"__main__\":\n",
    "\n",
    "    # Get variables (TODO: use argparse)\n",
    "    var = \"\"\n",
    "    if len(sys.argv) == 3:\n",
    "        assign_id, problem_id = sys.argv[1:]\n",
    "    elif len(sys.argv) == 4:\n",
    "        assign_id, problem_id, var = sys.argv[1:]\n",
    "    else:\n",
    "        sys.exit(\"Error, see 'python translate.py --help' for input requirement\")\n",
    "\n",
    "    # Start converting\n",
    "    translator = Translator()\n",
    "    \n",
    "    print \"  Reading imd ...\"\n",
    "    translator.readAssignment('problems_mapping.json', assign_id, problem_id)\n",
    "    translator.read_imd()\n",
    "    translator.loadImd()\n",
    "\n",
    "    print \"  Generating XML ...\"\n",
    "    translator.toHtml()\n",
    "    translator.toXML()\n",
    "    translator.write_xml()\n",
    "\n",
    "    print \"  Testing XML ...\"\n",
    "    translator.test()\n",
    "\n",
    "    print \"All tests passed. XML files saved in output_XML folder!\"\n",
    "\n"
   ]
  },
  {
   "cell_type": "markdown",
   "metadata": {
    "deletable": true,
    "editable": true,
    "run_control": {
     "frozen": false,
     "read_only": false
    }
   },
   "source": [
    "# <hr>"
   ]
  },
  {
   "cell_type": "code",
   "execution_count": null,
   "metadata": {
    "collapsed": true,
    "deletable": true,
    "editable": true,
    "run_control": {
     "frozen": false,
     "read_only": false
    }
   },
   "outputs": [],
   "source": [
    "\n",
    "\n",
    "\n",
    "\n",
    "\n",
    "\n",
    "\n",
    "\n",
    "\n",
    "\n",
    "\n"
   ]
  }
 ],
 "metadata": {
  "kernelspec": {
   "display_name": "Python 2",
   "language": "python",
   "name": "python2"
  },
  "language_info": {
   "codemirror_mode": {
    "name": "ipython",
    "version": 2
   },
   "file_extension": ".py",
   "mimetype": "text/x-python",
   "name": "python",
   "nbconvert_exporter": "python",
   "pygments_lexer": "ipython2",
   "version": "2.7.6"
  },
  "toc": {
   "colors": {
    "hover_highlight": "#DAA520",
    "running_highlight": "#FF0000",
    "selected_highlight": "#FFD700"
   },
   "moveMenuLeft": true,
   "nav_menu": {
    "height": "211px",
    "width": "252px"
   },
   "navigate_menu": true,
   "number_sections": true,
   "sideBar": true,
   "threshold": 4,
   "toc_cell": false,
   "toc_section_display": "block",
   "toc_window_display": true,
   "widenNotebook": false
  }
 },
 "nbformat": 4,
 "nbformat_minor": 2
}
