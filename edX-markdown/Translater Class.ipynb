{
 "cells": [
  {
   "cell_type": "markdown",
   "metadata": {},
   "source": [
    "#### import stuff"
   ]
  },
  {
   "cell_type": "code",
   "execution_count": 5,
   "metadata": {
    "collapsed": true
   },
   "outputs": [],
   "source": [
    "import markdown\n",
    "import json\n",
    "import sys"
   ]
  },
  {
   "cell_type": "markdown",
   "metadata": {},
   "source": [
    "#### Global Variables"
   ]
  },
  {
   "cell_type": "code",
   "execution_count": 6,
   "metadata": {
    "collapsed": true
   },
   "outputs": [],
   "source": [
    "XML_HEAD = '<problem>\\n  <text>\\n'\n",
    "XML_END = '  </text>\\n</problem>\\n'\n",
    "\n",
    "XML_PY_START = '    <script type=\"loncapa/python\">\\n'\n",
    "XML_PY_END = '    </script>\\n\\n\\n'\n",
    "XML_PY_EVAL = XML_PY_START + 'from hint import evaluate\\ndef check(expect, ans):\\n  return evaluate.evaluate(expect, ans)\\n' + XML_PY_END"
   ]
  },
  {
   "cell_type": "markdown",
   "metadata": {},
   "source": [
    "#### Wrappers"
   ]
  },
  {
   "cell_type": "code",
   "execution_count": 7,
   "metadata": {
    "collapsed": true
   },
   "outputs": [],
   "source": [
    "def math_wrapper(sol):\n",
    "    return '    <customresponse cfn=\"check\" expect=\"\\[${0}\\]\">\\n      <textline/>\\n    </customresponse>\\n\\n'.format(sol)"
   ]
  },
  {
   "cell_type": "code",
   "execution_count": 8,
   "metadata": {
    "collapsed": true
   },
   "outputs": [],
   "source": [
    "def option_wrapper(opt, sol):\n",
    "    opt_string = '      <optioninput options=\"${0}\" correct=\"${1}\"/>'.format(opt, sol)\n",
    "    return '    <optionresponse>\\n'+opt_string+'\\n    </optionresponse>\\n\\n'"
   ]
  },
  {
   "cell_type": "code",
   "execution_count": 9,
   "metadata": {
    "collapsed": true
   },
   "outputs": [],
   "source": [
    "def multi_choice_wrapper(choices):\n",
    "    head = '    <choiceresponse>\\n      <checkboxgroup>\\n'\n",
    "    end = '      </checkboxgroup>\\n    </choiceresponse>\\n\\n'\n",
    "    return head+choices+end"
   ]
  },
  {
   "cell_type": "code",
   "execution_count": 10,
   "metadata": {
    "collapsed": true
   },
   "outputs": [],
   "source": [
    "def correct_choice_wrapper(choice):\n",
    "    return '<choice correct=\"true\">{0}</choice>\\n'.format(choice)"
   ]
  },
  {
   "cell_type": "code",
   "execution_count": 11,
   "metadata": {
    "collapsed": true
   },
   "outputs": [],
   "source": [
    "def wrong_choice_wrapper(choice):\n",
    "    return '<choice correct=\"false\">{0}</choice>\\n'.format(choice)"
   ]
  },
  {
   "cell_type": "markdown",
   "metadata": {},
   "source": [
    "#### Read Function"
   ]
  },
  {
   "cell_type": "code",
   "execution_count": 12,
   "metadata": {
    "collapsed": true
   },
   "outputs": [],
   "source": [
    "\n",
    "def read_md(contents):\n",
    "    # TO DO:\n",
    "    # Break into 2 functions \n",
    "    #   Funciton 1: splitImd()  #<-- we split into 3 parts: python code, markdown, tests\n",
    "    #   Function 2: markdownToHtml  #<-- \n",
    "    \n",
    "    \n",
    "    '''\n",
    "    Given imd file content, split python code and markdown code.\n",
    "    Then, convert markdown code to HTML.\n",
    "    input:\n",
    "        contents: imd file content\n",
    "    output:\n",
    "        python_code: python code\n",
    "        html_code: converted from markdown code to html code\n",
    "    '''\n",
    "\n",
    "    if \"```python\\n\" in contents:\n",
    "        start_index = contents.index(\"```python\\n\")\n",
    "        end_index = contents.index(\"```\\n\")\n",
    "        python_code = contents[start_index+1:end_index]\n",
    "        python_code = \"\".join(python_code)\n",
    "        md_code = contents[end_index+1:]\n",
    "    else:\n",
    "        python_code = \"\"\n",
    "        md_code = contents\n",
    "\n",
    "    inline = 0  # open or closed parantheses\n",
    "    double = 0  # open or closed brackets\n",
    "    inlineSub = ['\\\\\\\\\\\\(', '\\\\\\\\\\\\)']\n",
    "    doubleSub = ['\\\\\\\\\\\\[', '\\\\\\\\\\\\]']\n",
    "\n",
    "    # Read markdown line by line\n",
    "    for j in xrange(len(md_code)):\n",
    "        line = md_code[j]\n",
    "\n",
    "        # trim the empty space at the front\n",
    "        while line[0] == \" \":\n",
    "            line = line[1:]\n",
    "\n",
    "        # trim the empty space at the end, but preserve the newline\n",
    "        while len(line) > 3 and line[-2] == \" \":\n",
    "            line = line[:-2] + line[-1]\n",
    "\n",
    "        line = line.replace('\\\\$','\\001')   # record dollar sign in $var by a safe substitute\n",
    "\n",
    "        i=0\n",
    "        while i < len(line):\n",
    "            if line[i:i+2] == '$$':\n",
    "                line = line[:i]+doubleSub[double]+line[i+2:]\n",
    "                double = 1 - double\n",
    "                i += 4\n",
    "            elif line[i] == '$':\n",
    "                line = line[:i]+inlineSub[inline]+line[i+1:]\n",
    "                inline = 1-inline\n",
    "                i += 4\n",
    "            else:\n",
    "                i += 1\n",
    "\n",
    "        line = line.replace('\\001','$')\n",
    "        md_code[j] = line\n",
    "    html_code = markdown.markdown(\"\".join(md_code), extensions=['markdown.extensions.tables'], output_format=\"HTML\")\n",
    "\n",
    "    f.close()\n",
    "\n",
    "    return python_code, html_code"
   ]
  },
  {
   "cell_type": "markdown",
   "metadata": {},
   "source": [
    "### Convert Function"
   ]
  },
  {
   "cell_type": "code",
   "execution_count": 13,
   "metadata": {
    "collapsed": true
   },
   "outputs": [],
   "source": [
    "\n",
    "def convert_html_to_xml(html_code, py_code):\n",
    "\thtml_code = html_code.splitlines()\n",
    "\tpy_code_lines = py_code.splitlines()\n",
    "\tchoice_list = \"\"\n",
    "\n",
    "\tupdated_html_code = []\n",
    "\tpart_id = 1\n",
    "\tfor line in html_code:\n",
    "\t\tif '<p>[_choice]</p>' == line:\n",
    "\t\t\tupdated_html_code += ['\\n', '\\n']\n",
    "\t\t\tfor s in py_code_lines:\n",
    "\t\t\t\tif '=' not in s:\n",
    "\t\t\t\t\tcontinue\n",
    "\t\t\t\tstrip_start_index = s.index('=')\n",
    "\t\t\t\tstrip_s = s[:strip_start_index+1].replace(\" \", \"\") + s[strip_start_index+1:]\n",
    "\t\t\t\tsol_str = 'solution'+str(part_id)+\"=\"\n",
    "\t\t\t\topt_str = 'option'+str(part_id)+\"=\"\n",
    "\t\t\t\tif sol_str in strip_s:\n",
    "\t\t\t\t\tsol_index = strip_s.index(sol_str)\n",
    "\t\t\t\t\tsol = strip_s[sol_index+len(sol_str):]\n",
    "\t\t\t\t\twhile sol[0] == ' ':\n",
    "\t\t\t\t\t\tsol = sol[1:]\n",
    "\t\t\t\t\tsol = sol.replace('\\n','')\n",
    "\t\t\t\t\tsol = sol.replace('\"','')\n",
    "\t\t\t\t\tsol = sol.replace(\"'\", \"\")\n",
    "\t\t\t\telif opt_str in strip_s:\n",
    "\t\t\t\t\topt_index = strip_s.index(opt_str)\n",
    "\t\t\t\t\topt = strip_s[opt_index+len(opt_str):]\n",
    "\t\t\t\t\twhile opt[0] == ' ':\n",
    "\t\t\t\t\t\topt = opt[1:]\n",
    "\t\t\t\t\topt = opt.replace(\"\\n\",\"\")\n",
    "\n",
    "\t\t\txml_code = option_wrapper(opt, sol)\n",
    "\t\t\tupdated_html_code += xml_code\n",
    "\t\t\tpart_id += 1\n",
    "\n",
    "\t\telif '<p>[_]</p>' == line:\n",
    "\t\t\txml_code = math_wrapper('solution'+str(part_id))\n",
    "\t\t\tupdated_html_code += xml_code\n",
    "\t\t\tpart_id += 1\n",
    "\n",
    "\t\telif '[ ]' in line or '[x]' in line:\n",
    "\t\t\t# trim <p> and </p>\n",
    "\t\t\tif '<p>' in line:\n",
    "\t\t\t\tupdated_html_code += ['\\n', '\\n']\n",
    "\t\t\t\tchoice_context = line[3:]\n",
    "\t\t\tif '</p>' in line:\n",
    "\t\t\t\tend_index = line.index(\"</p>\")\n",
    "\t\t\t\tchoice_context = line[:end_index]\n",
    "\n",
    "\t\t\twhile choice_context[0] == ' ':\n",
    "\t\t\t\tchoice_context = choice_context[1:]\n",
    "\t\t\twhile choice_context[-1] == ' ':\n",
    "\t\t\t\tchoice_context = choice_context[:-1]\n",
    "\n",
    "\t\t\tif '[ ]' in line:\n",
    "\t\t\t\tchoice_insert = wrong_choice_wrapper(choice_context[3:])\n",
    "\t\t\telif '[x]' in line:\n",
    "\t\t\t\tchoice_insert = correct_choice_wrapper(choice_context[3:])\n",
    "\n",
    "\t\t\tchoice_list += choice_insert\n",
    "\n",
    "\t\t\tif '</p>' in line:\n",
    "\t\t\t\tupdated_html_code += multi_choice_wrapper(choice_list)\n",
    "\t\t\t\tpart_id += 1\n",
    "\t\t\t\tchoice_list = \"\"\n",
    "\n",
    "\t\telse:\n",
    "\t\t\tupdated_html_code.append(line)\n",
    "\t\t\tupdated_html_code.append(\"\\n\")\n",
    "\n",
    "\tupdated_html_code = \"\".join(updated_html_code)\n",
    "\ttemplate = XML_HEAD + XML_PY_START + py_code + XML_PY_END + updated_html_code + XML_PY_EVAL + XML_END\n",
    "\treturn template\n",
    "\n"
   ]
  },
  {
   "cell_type": "markdown",
   "metadata": {},
   "source": [
    "#### Main Function"
   ]
  },
  {
   "cell_type": "code",
   "execution_count": null,
   "metadata": {
    "collapsed": true
   },
   "outputs": [],
   "source": [
    "\n",
    "\tvar = \"\"\n",
    "\tif len(sys.argv) == 3:\n",
    "\t\tweek, problem = sys.argv[1:]\n",
    "\telif len(sys.argv) == 4:\n",
    "\t\tweek, problem, var = sys.argv[1:]\n",
    "\telse:\n",
    "\t\tsys.exit(\"Error, see 'python translate.py --help' for input requirement\")\n",
    "\n",
    "    # Get source file name\n",
    "\tmapping = json.loads(open(\"problems_mapping.json\").read())\n",
    "\tmapping_key = \"Week{0}_Problem{1}\".format(week, problem)\n",
    "\t#mapping_key = \"PracticeFinal{1}\".format(week, problem)\n",
    "\tfile_name = mapping[mapping_key]\n",
    "\tinput_file_name = \"input_imd/{0}\".format(file_name)\n",
    "\toutput_file_name = \"output_XML/{0}.xml\".format(mapping_key)\n",
    "\n",
    "\tf = open(input_file_name, \"r\")\n",
    "\tcontents = f.readlines()\n",
    "\tf.close()\n",
    "\n",
    "\tprint \"generating XML\"\n",
    "\n",
    "\tpy_code, html_code = read_md(contents)\n",
    "\n",
    "\ttemplate = convert_html(html_code, py_code)\n",
    "\n",
    "\tprint \"writing files ...\"\n",
    "\n",
    "\tf = open(output_file_name, \"w\")\n",
    "\tf.write(\"\".join(template))\n",
    "\tf.close()\n",
    "\n",
    "\tprint \"Done! XML files saved in output_XML folder!\""
   ]
  },
  {
   "cell_type": "markdown",
   "metadata": {},
   "source": [
    "# Translater Class"
   ]
  },
  {
   "cell_type": "code",
   "execution_count": 19,
   "metadata": {
    "collapsed": false
   },
   "outputs": [
    {
     "ename": "SyntaxError",
     "evalue": "EOL while scanning string literal (<ipython-input-19-733cfc8c2b9b>, line 68)",
     "output_type": "error",
     "traceback": [
      "\u001b[0;36m  File \u001b[0;32m\"<ipython-input-19-733cfc8c2b9b>\"\u001b[0;36m, line \u001b[0;32m68\u001b[0m\n\u001b[0;31m    if __name__ == \"__main__\u001b[0m\n\u001b[0m                            ^\u001b[0m\n\u001b[0;31mSyntaxError\u001b[0m\u001b[0;31m:\u001b[0m EOL while scanning string literal\n"
     ]
    }
   ],
   "source": [
    "import argparse\n",
    "\n",
    "class Translator:\n",
    "    \"\"\"\n",
    "    The translator class translates IMD files, into other formats.     \n",
    "    \"\"\"\n",
    "    \n",
    "    def __init__():\n",
    "        \"\"\"\n",
    "\n",
    "        \"\"\"\n",
    "        \n",
    "    \n",
    "    def help(self):\n",
    "        print \"Please type in parameters as follow(if you have variables type in 1 at the end):\"\n",
    "        print \"python translate.py <Week ID> <Problem ID> <1>\"\n",
    "        \n",
    "    def readAssignment(filename):\n",
    "        \"\"\"\n",
    "        Reads the JSON file that conatins the mapping of problems to file path.\n",
    "        \n",
    "        Example of contents in JSON file:\n",
    "        {\n",
    "            \"Week1_Problem1\": \"imd_examples/basic_example.imd\",\n",
    "            \"Week1_Problem2\": \"imd_examples/variables_example.imd\",\n",
    "            \"Week1_Problem3\": \"imd_examples/checkbox_example.imd\",\n",
    "            \"Week1_Problem4\": \"imd_examples/dropdown_example.imd\"\n",
    "        }\n",
    "        \n",
    "        \"\"\"\n",
    "        self.problemMapping = json.load( open(filename,\"r\") )\n",
    "    \n",
    "        \n",
    "    def loadImd(filename):\n",
    "        \"\"\"\n",
    "        \n",
    "        \"\"\"\n",
    "        \n",
    "    def toXml():\n",
    "        \"\"\"\n",
    "        returns the XML code that is to be pasted into EDX studio\n",
    "        \"\"\"\n",
    "    \n",
    "    def toHtml():\n",
    "        \"\"\"\n",
    "        translates the markdown to html\n",
    "        interpolates the variables (later possibley display it, with input boxes)\n",
    "        \n",
    "        \"\"\"\n",
    "    \n",
    "    def test():\n",
    "        \"\"\"\n",
    "        Tests the IMD code, the code will be in 3 parts. \n",
    "            1: python code\n",
    "            2: tests\n",
    "            3: the markdown\n",
    "            \n",
    "        2: Tests\n",
    "            A test consists of:\n",
    "                set variables\n",
    "                computed answers\n",
    "                correct and incorrect answers\n",
    "        \n",
    "        Tests returns\n",
    "            a boolean variable of correctness\n",
    "            a string describing the error if it was incorrect\n",
    "        \n",
    "        \"\"\"\n",
    "        \n",
    "if __name__ == \"__main__\":\n",
    "    args = parser.parser_args()"
   ]
  },
  {
   "cell_type": "code",
   "execution_count": 15,
   "metadata": {
    "collapsed": true
   },
   "outputs": [],
   "source": [
    "trans = Translator()"
   ]
  },
  {
   "cell_type": "code",
   "execution_count": 16,
   "metadata": {
    "collapsed": false
   },
   "outputs": [
    {
     "name": "stdout",
     "output_type": "stream",
     "text": [
      "Please type in parameters as follow(if you have variables type in 1 at the end):\n",
      "python translate.py <Week ID> <Problem ID> <1>\n"
     ]
    }
   ],
   "source": [
    "trans.help()"
   ]
  },
  {
   "cell_type": "code",
   "execution_count": null,
   "metadata": {
    "collapsed": true
   },
   "outputs": [],
   "source": []
  },
  {
   "cell_type": "code",
   "execution_count": null,
   "metadata": {
    "collapsed": true
   },
   "outputs": [],
   "source": []
  }
 ],
 "metadata": {
  "kernelspec": {
   "display_name": "Python 2",
   "language": "python",
   "name": "python2"
  },
  "language_info": {
   "codemirror_mode": {
    "name": "ipython",
    "version": 2
   },
   "file_extension": ".py",
   "mimetype": "text/x-python",
   "name": "python",
   "nbconvert_exporter": "python",
   "pygments_lexer": "ipython2",
   "version": "2.7.13"
  }
 },
 "nbformat": 4,
 "nbformat_minor": 2
}
